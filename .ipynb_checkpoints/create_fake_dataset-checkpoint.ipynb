{
 "cells": [
  {
   "cell_type": "code",
   "execution_count": 1,
   "metadata": {},
   "outputs": [],
   "source": [
    "import random\n",
    "from PIL import Image,ImageDraw\n",
    "from math import sin, cos, pi\n",
    "import numpy as np\n",
    "import matplotlib.pyplot as plt\n",
    "from matplotlib.image import imread\n",
    "import os"
   ]
  },
  {
   "cell_type": "code",
   "execution_count": 2,
   "metadata": {},
   "outputs": [],
   "source": [
    "height = 240\n",
    "width = 424 \n",
    "\n",
    "empty_image = (0,0,0)\n",
    "\n",
    "n=4 ##parts\n",
    "m=1 ##sum\n",
    "\n",
    "angle= np.random.dirichlet(np.ones(n))*360"
   ]
  },
  {
   "cell_type": "code",
   "execution_count": 3,
   "metadata": {},
   "outputs": [],
   "source": [
    "for i in range(1024):\n",
    "    y = random.randrange(height)-height/2\n",
    "    x = random.randrange(width)-width/2\n",
    "\n",
    "    img = Image.new(\"RGB\", (width, height), empty_image)\n",
    "    img_seg = Image.new(\"RGB\", (width, height), empty_image)\n",
    "    dctx = ImageDraw.Draw(img)\n",
    "    dctx_seg = ImageDraw.Draw(img_seg)\n",
    "\n",
    "    bb=(-width-x,-height-y,2*width-x,2*height-y)\n",
    "#     print(angle)\n",
    "\n",
    "    dctx.pieslice(bb, start=0, end=angle[0], fill=\"Yellow\")\n",
    "    dctx.pieslice(bb, start=angle[0], end=angle[0]+angle[1], fill=\"Red\")\n",
    "    dctx.pieslice(bb, start=angle[0]+angle[1], end=angle[0]+angle[1]+angle[2], fill=\"Green\")\n",
    "    dctx.pieslice(bb, start=angle[0]+angle[1]+angle[2], end=0, fill=\"Blue\")\n",
    "    \n",
    "    dctx_seg.pieslice(bb, start=0, end=angle[0], fill=1)\n",
    "    dctx_seg.pieslice(bb, start=angle[0], end=angle[0]+angle[1], fill=2)\n",
    "    dctx_seg.pieslice(bb, start=angle[0]+angle[1], end=angle[0]+angle[1]+angle[2], fill=3)\n",
    "    dctx_seg.pieslice(bb, start=angle[0]+angle[1]+angle[2], end=0, fill=4)\n",
    "    del dctx\n",
    "    del dctx_seg\n",
    "#     img.show()\n",
    "    directory = f\"/home/student/test/imgs/{i}/\"\n",
    "    if not os.path.exists(directory):\n",
    "        os.makedirs(directory)\n",
    "        \n",
    "    img.save(f\"{directory}/RGB.png\")\n",
    "    \n",
    "    img_seg.save(f\"{directory}/Segments.png\")"
   ]
  },
  {
   "cell_type": "code",
   "execution_count": 4,
   "metadata": {},
   "outputs": [
    {
     "name": "stdout",
     "output_type": "stream",
     "text": [
      "None\n"
     ]
    }
   ],
   "source": [
    "# %matplotlib notebook\n",
    "# import sys\n",
    "# if '/opt/ros/kinetic/lib/python2.7/dist-packages' in sys.path: sys.path.remove('/opt/ros/kinetic/lib/python2.7/dist-packages')\n",
    "# import cv2 \n",
    "# a = cv2.imread(\"test_seg/pieslice_0.png\")\n",
    "# print(a)\n",
    "# b = a#[:,:,2]\n",
    "# plt.imshow(b)\n",
    "# plt.show()"
   ]
  },
  {
   "cell_type": "code",
   "execution_count": null,
   "metadata": {},
   "outputs": [],
   "source": []
  }
 ],
 "metadata": {
  "kernelspec": {
   "display_name": "Python 3",
   "language": "python",
   "name": "python3"
  },
  "language_info": {
   "codemirror_mode": {
    "name": "ipython",
    "version": 3
   },
   "file_extension": ".py",
   "mimetype": "text/x-python",
   "name": "python",
   "nbconvert_exporter": "python",
   "pygments_lexer": "ipython3",
   "version": "3.7.4"
  }
 },
 "nbformat": 4,
 "nbformat_minor": 2
}
